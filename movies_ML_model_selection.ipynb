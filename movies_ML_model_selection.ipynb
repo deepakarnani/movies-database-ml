{
 "cells": [
  {
   "cell_type": "code",
   "execution_count": 3,
   "metadata": {},
   "outputs": [],
   "source": [
    "# Import necessary libraries and packages\n",
    "\n",
    "import pandas as pd\n",
    "import numpy as np\n",
    "import matplotlib.pyplot as plt\n",
    "import random\n",
    "from sklearn.model_selection import train_test_split, cross_val_score\n",
    "from sklearn import tree\n",
    "from sklearn import linear_model\n",
    "from sklearn.model_selection import KFold\n",
    "#from sklearn.cross_validation import StratifiedKFold\n",
    "from sklearn.ensemble import RandomForestRegressor, GradientBoostingRegressor, AdaBoostRegressor\n",
    "from sklearn import metrics\n",
    "from sklearn.metrics import mean_absolute_error, mean_squared_error, median_absolute_error, explained_variance_score, r2_score\n",
    "from sklearn import preprocessing\n",
    "from sklearn.preprocessing import LabelEncoder, OneHotEncoder\n",
    "from sklearn.feature_extraction.text import TfidfVectorizer, CountVectorizer, HashingVectorizer\n"
   ]
  },
  {
   "cell_type": "code",
   "execution_count": 4,
   "metadata": {},
   "outputs": [],
   "source": [
    "movies = pd.read_csv(\"Training sheet.csv\")"
   ]
  },
  {
   "cell_type": "code",
   "execution_count": 5,
   "metadata": {},
   "outputs": [
    {
     "data": {
      "text/html": [
       "<div>\n",
       "<style scoped>\n",
       "    .dataframe tbody tr th:only-of-type {\n",
       "        vertical-align: middle;\n",
       "    }\n",
       "\n",
       "    .dataframe tbody tr th {\n",
       "        vertical-align: top;\n",
       "    }\n",
       "\n",
       "    .dataframe thead th {\n",
       "        text-align: right;\n",
       "    }\n",
       "</style>\n",
       "<table border=\"1\" class=\"dataframe\">\n",
       "  <thead>\n",
       "    <tr style=\"text-align: right;\">\n",
       "      <th></th>\n",
       "      <th>id</th>\n",
       "      <th>name</th>\n",
       "      <th>display_name</th>\n",
       "      <th>production_year</th>\n",
       "      <th>movie_sequel</th>\n",
       "      <th>creative_type</th>\n",
       "      <th>source</th>\n",
       "      <th>production_method</th>\n",
       "      <th>genre</th>\n",
       "      <th>language</th>\n",
       "      <th>board_rating_reason</th>\n",
       "      <th>movie_board_rating_display_name</th>\n",
       "      <th>movie_release_pattern_display_name</th>\n",
       "      <th>total</th>\n",
       "      <th>Category</th>\n",
       "    </tr>\n",
       "  </thead>\n",
       "  <tbody>\n",
       "    <tr>\n",
       "      <th>0</th>\n",
       "      <td>7950115</td>\n",
       "      <td>Avatar</td>\n",
       "      <td>Avatar</td>\n",
       "      <td>2009</td>\n",
       "      <td>0</td>\n",
       "      <td>Science Fiction</td>\n",
       "      <td>Original Screenplay</td>\n",
       "      <td>Animation/Live Action</td>\n",
       "      <td>Action</td>\n",
       "      <td>English</td>\n",
       "      <td>For intense epic battle sequences and warfare,...</td>\n",
       "      <td>PG-13</td>\n",
       "      <td>Wide</td>\n",
       "      <td>2784</td>\n",
       "      <td>9</td>\n",
       "    </tr>\n",
       "    <tr>\n",
       "      <th>1</th>\n",
       "      <td>50950115</td>\n",
       "      <td>Harry Potter and the Deathly Hallows: Part II</td>\n",
       "      <td>Harry Potter and the Deathly Hallows: Part II</td>\n",
       "      <td>2011</td>\n",
       "      <td>1</td>\n",
       "      <td>Fantasy</td>\n",
       "      <td>Based on Fiction Book/Short Story</td>\n",
       "      <td>Animation/Live Action</td>\n",
       "      <td>Adventure</td>\n",
       "      <td>English</td>\n",
       "      <td>for some sequences of intense action violence ...</td>\n",
       "      <td>PG-13</td>\n",
       "      <td>Wide</td>\n",
       "      <td>1328</td>\n",
       "      <td>9</td>\n",
       "    </tr>\n",
       "    <tr>\n",
       "      <th>2</th>\n",
       "      <td>119870115</td>\n",
       "      <td>Transformers 3</td>\n",
       "      <td>Transformers: Dark of the Moon</td>\n",
       "      <td>2011</td>\n",
       "      <td>1</td>\n",
       "      <td>Science Fiction</td>\n",
       "      <td>Based on TV</td>\n",
       "      <td>Animation/Live Action</td>\n",
       "      <td>Action</td>\n",
       "      <td>English</td>\n",
       "      <td>for intense prolonged sequences of sci-fi acti...</td>\n",
       "      <td>PG-13</td>\n",
       "      <td>Wide</td>\n",
       "      <td>1124</td>\n",
       "      <td>9</td>\n",
       "    </tr>\n",
       "    <tr>\n",
       "      <th>3</th>\n",
       "      <td>119590115</td>\n",
       "      <td>Toy Story 3</td>\n",
       "      <td>Toy Story 3</td>\n",
       "      <td>2010</td>\n",
       "      <td>1</td>\n",
       "      <td>Kids Fiction</td>\n",
       "      <td>Original Screenplay</td>\n",
       "      <td>Digital Animation</td>\n",
       "      <td>Adventure</td>\n",
       "      <td>English</td>\n",
       "      <td>General</td>\n",
       "      <td>G</td>\n",
       "      <td>Wide</td>\n",
       "      <td>1064</td>\n",
       "      <td>9</td>\n",
       "    </tr>\n",
       "    <tr>\n",
       "      <th>4</th>\n",
       "      <td>91700115</td>\n",
       "      <td>Pirates of the Caribbean 4</td>\n",
       "      <td>Pirates of the Caribbean: On Stranger Tides</td>\n",
       "      <td>2011</td>\n",
       "      <td>1</td>\n",
       "      <td>Fantasy</td>\n",
       "      <td>Based on Theme Park Ride</td>\n",
       "      <td>Live Action</td>\n",
       "      <td>Adventure</td>\n",
       "      <td>English</td>\n",
       "      <td>for intense sequences of action/adventure viol...</td>\n",
       "      <td>PG-13</td>\n",
       "      <td>Wide</td>\n",
       "      <td>1044</td>\n",
       "      <td>9</td>\n",
       "    </tr>\n",
       "  </tbody>\n",
       "</table>\n",
       "</div>"
      ],
      "text/plain": [
       "          id                                           name  \\\n",
       "0    7950115                                         Avatar   \n",
       "1   50950115  Harry Potter and the Deathly Hallows: Part II   \n",
       "2  119870115                                 Transformers 3   \n",
       "3  119590115                                    Toy Story 3   \n",
       "4   91700115                     Pirates of the Caribbean 4   \n",
       "\n",
       "                                    display_name  production_year  \\\n",
       "0                                         Avatar             2009   \n",
       "1  Harry Potter and the Deathly Hallows: Part II             2011   \n",
       "2                 Transformers: Dark of the Moon             2011   \n",
       "3                                    Toy Story 3             2010   \n",
       "4    Pirates of the Caribbean: On Stranger Tides             2011   \n",
       "\n",
       "   movie_sequel    creative_type                             source  \\\n",
       "0             0  Science Fiction                Original Screenplay   \n",
       "1             1          Fantasy  Based on Fiction Book/Short Story   \n",
       "2             1  Science Fiction                        Based on TV   \n",
       "3             1     Kids Fiction                Original Screenplay   \n",
       "4             1          Fantasy           Based on Theme Park Ride   \n",
       "\n",
       "       production_method      genre language  \\\n",
       "0  Animation/Live Action     Action  English   \n",
       "1  Animation/Live Action  Adventure  English   \n",
       "2  Animation/Live Action     Action  English   \n",
       "3      Digital Animation  Adventure  English   \n",
       "4            Live Action  Adventure  English   \n",
       "\n",
       "                                 board_rating_reason  \\\n",
       "0  For intense epic battle sequences and warfare,...   \n",
       "1  for some sequences of intense action violence ...   \n",
       "2  for intense prolonged sequences of sci-fi acti...   \n",
       "3                                            General   \n",
       "4  for intense sequences of action/adventure viol...   \n",
       "\n",
       "  movie_board_rating_display_name movie_release_pattern_display_name  total  \\\n",
       "0                           PG-13                               Wide   2784   \n",
       "1                           PG-13                               Wide   1328   \n",
       "2                           PG-13                               Wide   1124   \n",
       "3                               G                               Wide   1064   \n",
       "4                           PG-13                               Wide   1044   \n",
       "\n",
       "   Category  \n",
       "0         9  \n",
       "1         9  \n",
       "2         9  \n",
       "3         9  \n",
       "4         9  "
      ]
     },
     "execution_count": 5,
     "metadata": {},
     "output_type": "execute_result"
    }
   ],
   "source": [
    "movies_df = pd.DataFrame(movies)\n",
    "movies_df.head()"
   ]
  },
  {
   "cell_type": "code",
   "execution_count": 6,
   "metadata": {},
   "outputs": [
    {
     "data": {
      "text/plain": [
       "Index(['id', 'name', 'display_name', 'production_year', 'movie_sequel',\n",
       "       'creative_type', 'source', 'production_method', 'genre', 'language',\n",
       "       'board_rating_reason', 'movie_board_rating_display_name',\n",
       "       'movie_release_pattern_display_name', 'total', 'Category'],\n",
       "      dtype='object')"
      ]
     },
     "execution_count": 6,
     "metadata": {},
     "output_type": "execute_result"
    }
   ],
   "source": [
    "movies_df.columns"
   ]
  },
  {
   "cell_type": "code",
   "execution_count": 7,
   "metadata": {},
   "outputs": [],
   "source": [
    "from sklearn.preprocessing import StandardScaler\n",
    "from sklearn.tree import DecisionTreeRegressor\n",
    "from sklearn.linear_model import LinearRegression\n",
    "from math import sqrt\n",
    "from sklearn.model_selection import GridSearchCV\n",
    "from sklearn.neighbors import KNeighborsClassifier\n",
    "import seaborn as sns\n",
    "# Importing packages\n",
    "\n",
    "import os\n",
    "import pandas as pd\n",
    "from pandas import DataFrame,Series\n",
    "from sklearn import tree\n",
    "import matplotlib\n",
    "import numpy as np\n",
    "import matplotlib.pyplot as plt\n",
    "from sklearn import svm\n",
    "from sklearn.preprocessing import StandardScaler\n",
    "import statsmodels.formula.api as smf\n",
    "import statsmodels.api as sm\n",
    "from mpl_toolkits.mplot3d import Axes3D\n",
    "import seaborn as sns\n",
    "from sklearn import neighbors\n",
    "from sklearn import linear_model\n",
    "%matplotlib inline"
   ]
  },
  {
   "cell_type": "code",
   "execution_count": 8,
   "metadata": {},
   "outputs": [
    {
     "data": {
      "text/plain": [
       "Index(['id', 'name', 'display_name', 'production_year', 'movie_sequel',\n",
       "       'creative_type', 'source', 'production_method', 'genre', 'language',\n",
       "       'board_rating_reason', 'movie_board_rating_display_name',\n",
       "       'movie_release_pattern_display_name', 'total', 'Category'],\n",
       "      dtype='object')"
      ]
     },
     "execution_count": 8,
     "metadata": {},
     "output_type": "execute_result"
    }
   ],
   "source": [
    "# target = movies_df['Category']\n",
    "# movies_df = movies_df.drop('Category', axis = 1)\n",
    "movies_df.keys()"
   ]
  },
  {
   "cell_type": "code",
   "execution_count": 9,
   "metadata": {},
   "outputs": [
    {
     "name": "stdout",
     "output_type": "stream",
     "text": [
      "(1196, 7) (1196, 1)\n"
     ]
    }
   ],
   "source": [
    "X = movies_df[['creative_type', 'source', 'production_method', 'genre', 'language',\n",
    "               'board_rating_reason', 'movie_board_rating_display_name']]\n",
    "y = movies_df[\"Category\"].values.reshape(-1, 1)\n",
    "print(X.shape, y.shape)"
   ]
  },
  {
   "cell_type": "code",
   "execution_count": 10,
   "metadata": {},
   "outputs": [
    {
     "data": {
      "text/html": [
       "<div>\n",
       "<style scoped>\n",
       "    .dataframe tbody tr th:only-of-type {\n",
       "        vertical-align: middle;\n",
       "    }\n",
       "\n",
       "    .dataframe tbody tr th {\n",
       "        vertical-align: top;\n",
       "    }\n",
       "\n",
       "    .dataframe thead th {\n",
       "        text-align: right;\n",
       "    }\n",
       "</style>\n",
       "<table border=\"1\" class=\"dataframe\">\n",
       "  <thead>\n",
       "    <tr style=\"text-align: right;\">\n",
       "      <th></th>\n",
       "      <th>creative_type</th>\n",
       "      <th>source</th>\n",
       "      <th>production_method</th>\n",
       "      <th>genre</th>\n",
       "      <th>language</th>\n",
       "      <th>board_rating_reason</th>\n",
       "      <th>movie_board_rating_display_name</th>\n",
       "    </tr>\n",
       "  </thead>\n",
       "  <tbody>\n",
       "    <tr>\n",
       "      <th>0</th>\n",
       "      <td>Science Fiction</td>\n",
       "      <td>Original Screenplay</td>\n",
       "      <td>Animation/Live Action</td>\n",
       "      <td>Action</td>\n",
       "      <td>English</td>\n",
       "      <td>For intense epic battle sequences and warfare,...</td>\n",
       "      <td>PG-13</td>\n",
       "    </tr>\n",
       "    <tr>\n",
       "      <th>1</th>\n",
       "      <td>Fantasy</td>\n",
       "      <td>Based on Fiction Book/Short Story</td>\n",
       "      <td>Animation/Live Action</td>\n",
       "      <td>Adventure</td>\n",
       "      <td>English</td>\n",
       "      <td>for some sequences of intense action violence ...</td>\n",
       "      <td>PG-13</td>\n",
       "    </tr>\n",
       "    <tr>\n",
       "      <th>2</th>\n",
       "      <td>Science Fiction</td>\n",
       "      <td>Based on TV</td>\n",
       "      <td>Animation/Live Action</td>\n",
       "      <td>Action</td>\n",
       "      <td>English</td>\n",
       "      <td>for intense prolonged sequences of sci-fi acti...</td>\n",
       "      <td>PG-13</td>\n",
       "    </tr>\n",
       "    <tr>\n",
       "      <th>3</th>\n",
       "      <td>Kids Fiction</td>\n",
       "      <td>Original Screenplay</td>\n",
       "      <td>Digital Animation</td>\n",
       "      <td>Adventure</td>\n",
       "      <td>English</td>\n",
       "      <td>General</td>\n",
       "      <td>G</td>\n",
       "    </tr>\n",
       "    <tr>\n",
       "      <th>4</th>\n",
       "      <td>Fantasy</td>\n",
       "      <td>Based on Theme Park Ride</td>\n",
       "      <td>Live Action</td>\n",
       "      <td>Adventure</td>\n",
       "      <td>English</td>\n",
       "      <td>for intense sequences of action/adventure viol...</td>\n",
       "      <td>PG-13</td>\n",
       "    </tr>\n",
       "  </tbody>\n",
       "</table>\n",
       "</div>"
      ],
      "text/plain": [
       "     creative_type                             source      production_method  \\\n",
       "0  Science Fiction                Original Screenplay  Animation/Live Action   \n",
       "1          Fantasy  Based on Fiction Book/Short Story  Animation/Live Action   \n",
       "2  Science Fiction                        Based on TV  Animation/Live Action   \n",
       "3     Kids Fiction                Original Screenplay      Digital Animation   \n",
       "4          Fantasy           Based on Theme Park Ride            Live Action   \n",
       "\n",
       "       genre language                                board_rating_reason  \\\n",
       "0     Action  English  For intense epic battle sequences and warfare,...   \n",
       "1  Adventure  English  for some sequences of intense action violence ...   \n",
       "2     Action  English  for intense prolonged sequences of sci-fi acti...   \n",
       "3  Adventure  English                                            General   \n",
       "4  Adventure  English  for intense sequences of action/adventure viol...   \n",
       "\n",
       "  movie_board_rating_display_name  \n",
       "0                           PG-13  \n",
       "1                           PG-13  \n",
       "2                           PG-13  \n",
       "3                               G  \n",
       "4                           PG-13  "
      ]
     },
     "execution_count": 10,
     "metadata": {},
     "output_type": "execute_result"
    }
   ],
   "source": [
    "X.head()"
   ]
  },
  {
   "cell_type": "code",
   "execution_count": 13,
   "metadata": {},
   "outputs": [
    {
     "data": {
      "text/html": [
       "<div>\n",
       "<style scoped>\n",
       "    .dataframe tbody tr th:only-of-type {\n",
       "        vertical-align: middle;\n",
       "    }\n",
       "\n",
       "    .dataframe tbody tr th {\n",
       "        vertical-align: top;\n",
       "    }\n",
       "\n",
       "    .dataframe thead th {\n",
       "        text-align: right;\n",
       "    }\n",
       "</style>\n",
       "<table border=\"1\" class=\"dataframe\">\n",
       "  <thead>\n",
       "    <tr style=\"text-align: right;\">\n",
       "      <th></th>\n",
       "      <th>id</th>\n",
       "      <th>name</th>\n",
       "      <th>display_name</th>\n",
       "      <th>production_year</th>\n",
       "      <th>movie_sequel</th>\n",
       "      <th>creative_type</th>\n",
       "      <th>source</th>\n",
       "      <th>production_method</th>\n",
       "      <th>genre</th>\n",
       "      <th>language</th>\n",
       "      <th>board_rating_reason</th>\n",
       "      <th>movie_board_rating_display_name</th>\n",
       "      <th>movie_release_pattern_display_name</th>\n",
       "      <th>total</th>\n",
       "      <th>Category</th>\n",
       "    </tr>\n",
       "  </thead>\n",
       "  <tbody>\n",
       "    <tr>\n",
       "      <th>0</th>\n",
       "      <td>7950115</td>\n",
       "      <td>Avatar</td>\n",
       "      <td>Avatar</td>\n",
       "      <td>2009</td>\n",
       "      <td>0</td>\n",
       "      <td>Science Fiction</td>\n",
       "      <td>Original Screenplay</td>\n",
       "      <td>Animation/Live Action</td>\n",
       "      <td>Action</td>\n",
       "      <td>English</td>\n",
       "      <td>For intense epic battle sequences and warfare,...</td>\n",
       "      <td>PG-13</td>\n",
       "      <td>Wide</td>\n",
       "      <td>2784</td>\n",
       "      <td>9</td>\n",
       "    </tr>\n",
       "    <tr>\n",
       "      <th>1</th>\n",
       "      <td>50950115</td>\n",
       "      <td>Harry Potter and the Deathly Hallows: Part II</td>\n",
       "      <td>Harry Potter and the Deathly Hallows: Part II</td>\n",
       "      <td>2011</td>\n",
       "      <td>1</td>\n",
       "      <td>Fantasy</td>\n",
       "      <td>Based on Fiction Book/Short Story</td>\n",
       "      <td>Animation/Live Action</td>\n",
       "      <td>Adventure</td>\n",
       "      <td>English</td>\n",
       "      <td>for some sequences of intense action violence ...</td>\n",
       "      <td>PG-13</td>\n",
       "      <td>Wide</td>\n",
       "      <td>1328</td>\n",
       "      <td>9</td>\n",
       "    </tr>\n",
       "  </tbody>\n",
       "</table>\n",
       "</div>"
      ],
      "text/plain": [
       "         id                                           name  \\\n",
       "0   7950115                                         Avatar   \n",
       "1  50950115  Harry Potter and the Deathly Hallows: Part II   \n",
       "\n",
       "                                    display_name  production_year  \\\n",
       "0                                         Avatar             2009   \n",
       "1  Harry Potter and the Deathly Hallows: Part II             2011   \n",
       "\n",
       "   movie_sequel    creative_type                             source  \\\n",
       "0             0  Science Fiction                Original Screenplay   \n",
       "1             1          Fantasy  Based on Fiction Book/Short Story   \n",
       "\n",
       "       production_method      genre language  \\\n",
       "0  Animation/Live Action     Action  English   \n",
       "1  Animation/Live Action  Adventure  English   \n",
       "\n",
       "                                 board_rating_reason  \\\n",
       "0  For intense epic battle sequences and warfare,...   \n",
       "1  for some sequences of intense action violence ...   \n",
       "\n",
       "  movie_board_rating_display_name movie_release_pattern_display_name  total  \\\n",
       "0                           PG-13                               Wide   2784   \n",
       "1                           PG-13                               Wide   1328   \n",
       "\n",
       "   Category  \n",
       "0         9  \n",
       "1         9  "
      ]
     },
     "execution_count": 13,
     "metadata": {},
     "output_type": "execute_result"
    }
   ],
   "source": [
    "data=DataFrame(movies)\n",
    "data.head()[:2]"
   ]
  },
  {
   "cell_type": "code",
   "execution_count": 14,
   "metadata": {},
   "outputs": [
    {
     "data": {
      "text/html": [
       "<div>\n",
       "<style scoped>\n",
       "    .dataframe tbody tr th:only-of-type {\n",
       "        vertical-align: middle;\n",
       "    }\n",
       "\n",
       "    .dataframe tbody tr th {\n",
       "        vertical-align: top;\n",
       "    }\n",
       "\n",
       "    .dataframe thead th {\n",
       "        text-align: right;\n",
       "    }\n",
       "</style>\n",
       "<table border=\"1\" class=\"dataframe\">\n",
       "  <thead>\n",
       "    <tr style=\"text-align: right;\">\n",
       "      <th></th>\n",
       "      <th>id</th>\n",
       "      <th>production_year</th>\n",
       "      <th>movie_sequel</th>\n",
       "      <th>total</th>\n",
       "      <th>Category</th>\n",
       "    </tr>\n",
       "  </thead>\n",
       "  <tbody>\n",
       "    <tr>\n",
       "      <th>0</th>\n",
       "      <td>7950115</td>\n",
       "      <td>2009</td>\n",
       "      <td>0</td>\n",
       "      <td>2784</td>\n",
       "      <td>9</td>\n",
       "    </tr>\n",
       "    <tr>\n",
       "      <th>1</th>\n",
       "      <td>50950115</td>\n",
       "      <td>2011</td>\n",
       "      <td>1</td>\n",
       "      <td>1328</td>\n",
       "      <td>9</td>\n",
       "    </tr>\n",
       "  </tbody>\n",
       "</table>\n",
       "</div>"
      ],
      "text/plain": [
       "         id  production_year  movie_sequel  total  Category\n",
       "0   7950115             2009             0   2784         9\n",
       "1  50950115             2011             1   1328         9"
      ]
     },
     "execution_count": 14,
     "metadata": {},
     "output_type": "execute_result"
    }
   ],
   "source": [
    "X_data=data.dtypes[data.dtypes!='object'].index\n",
    "X_train=data[X_data]\n",
    "X_train.head()[:2]"
   ]
  },
  {
   "cell_type": "code",
   "execution_count": 15,
   "metadata": {},
   "outputs": [
    {
     "data": {
      "text/html": [
       "<div>\n",
       "<style scoped>\n",
       "    .dataframe tbody tr th:only-of-type {\n",
       "        vertical-align: middle;\n",
       "    }\n",
       "\n",
       "    .dataframe tbody tr th {\n",
       "        vertical-align: top;\n",
       "    }\n",
       "\n",
       "    .dataframe thead th {\n",
       "        text-align: right;\n",
       "    }\n",
       "</style>\n",
       "<table border=\"1\" class=\"dataframe\">\n",
       "  <thead>\n",
       "    <tr style=\"text-align: right;\">\n",
       "      <th></th>\n",
       "      <th>id</th>\n",
       "      <th>production_year</th>\n",
       "      <th>movie_sequel</th>\n",
       "      <th>total</th>\n",
       "      <th>Category</th>\n",
       "    </tr>\n",
       "  </thead>\n",
       "  <tbody>\n",
       "    <tr>\n",
       "      <th>count</th>\n",
       "      <td>1.196000e+03</td>\n",
       "      <td>1196.000000</td>\n",
       "      <td>1196.000000</td>\n",
       "      <td>1196.000000</td>\n",
       "      <td>1196.000000</td>\n",
       "    </tr>\n",
       "    <tr>\n",
       "      <th>mean</th>\n",
       "      <td>8.928203e+07</td>\n",
       "      <td>2008.984950</td>\n",
       "      <td>0.097826</td>\n",
       "      <td>104.703177</td>\n",
       "      <td>3.564381</td>\n",
       "    </tr>\n",
       "    <tr>\n",
       "      <th>std</th>\n",
       "      <td>4.832893e+07</td>\n",
       "      <td>1.383625</td>\n",
       "      <td>0.297204</td>\n",
       "      <td>181.927715</td>\n",
       "      <td>1.962417</td>\n",
       "    </tr>\n",
       "    <tr>\n",
       "      <th>min</th>\n",
       "      <td>7.011500e+04</td>\n",
       "      <td>2007.000000</td>\n",
       "      <td>0.000000</td>\n",
       "      <td>1.000000</td>\n",
       "      <td>1.000000</td>\n",
       "    </tr>\n",
       "    <tr>\n",
       "      <th>25%</th>\n",
       "      <td>4.808012e+07</td>\n",
       "      <td>2008.000000</td>\n",
       "      <td>0.000000</td>\n",
       "      <td>11.000000</td>\n",
       "      <td>2.000000</td>\n",
       "    </tr>\n",
       "    <tr>\n",
       "      <th>50%</th>\n",
       "      <td>9.391012e+07</td>\n",
       "      <td>2009.000000</td>\n",
       "      <td>0.000000</td>\n",
       "      <td>40.500000</td>\n",
       "      <td>3.000000</td>\n",
       "    </tr>\n",
       "    <tr>\n",
       "      <th>75%</th>\n",
       "      <td>1.354326e+08</td>\n",
       "      <td>2010.000000</td>\n",
       "      <td>0.000000</td>\n",
       "      <td>114.250000</td>\n",
       "      <td>5.000000</td>\n",
       "    </tr>\n",
       "    <tr>\n",
       "      <th>max</th>\n",
       "      <td>1.769701e+08</td>\n",
       "      <td>2011.000000</td>\n",
       "      <td>1.000000</td>\n",
       "      <td>2784.000000</td>\n",
       "      <td>9.000000</td>\n",
       "    </tr>\n",
       "  </tbody>\n",
       "</table>\n",
       "</div>"
      ],
      "text/plain": [
       "                 id  production_year  movie_sequel        total     Category\n",
       "count  1.196000e+03      1196.000000   1196.000000  1196.000000  1196.000000\n",
       "mean   8.928203e+07      2008.984950      0.097826   104.703177     3.564381\n",
       "std    4.832893e+07         1.383625      0.297204   181.927715     1.962417\n",
       "min    7.011500e+04      2007.000000      0.000000     1.000000     1.000000\n",
       "25%    4.808012e+07      2008.000000      0.000000    11.000000     2.000000\n",
       "50%    9.391012e+07      2009.000000      0.000000    40.500000     3.000000\n",
       "75%    1.354326e+08      2010.000000      0.000000   114.250000     5.000000\n",
       "max    1.769701e+08      2011.000000      1.000000  2784.000000     9.000000"
      ]
     },
     "execution_count": 15,
     "metadata": {},
     "output_type": "execute_result"
    }
   ],
   "source": [
    "X_train.describe()"
   ]
  },
  {
   "cell_type": "code",
   "execution_count": 16,
   "metadata": {},
   "outputs": [
    {
     "data": {
      "text/plain": [
       "id                 0\n",
       "production_year    0\n",
       "movie_sequel       0\n",
       "total              0\n",
       "Category           0\n",
       "dtype: int64"
      ]
     },
     "execution_count": 16,
     "metadata": {},
     "output_type": "execute_result"
    }
   ],
   "source": [
    "# Finding all the columns with NULL values\n",
    "\n",
    "np.sum(X_train.isnull())"
   ]
  },
  {
   "cell_type": "code",
   "execution_count": 17,
   "metadata": {},
   "outputs": [
    {
     "data": {
      "text/plain": [
       "<matplotlib.axes._subplots.AxesSubplot at 0x29d1b80bcc0>"
      ]
     },
     "execution_count": 17,
     "metadata": {},
     "output_type": "execute_result"
    },
    {
     "data": {
      "image/png": "[encoded data removed]",
      "text/plain": [
       "<matplotlib.figure.Figure at 0x29d1b80bac8>"
      ]
     },
     "metadata": {},
     "output_type": "display_data"
    }
   ],
   "source": [
    "# GETTING Correllation matrix\n",
    "corr_mat=X_train.corr(method='pearson')\n",
    "plt.figure(figsize=(20,10))\n",
    "sns.heatmap(corr_mat,vmax=1,square=True,annot=True,cmap='cubehelix')"
   ]
  },
  {
   "cell_type": "code",
   "execution_count": 18,
   "metadata": {},
   "outputs": [
    {
     "name": "stderr",
     "output_type": "stream",
     "text": [
      "C:\\Users\\dinot\\AppData\\Local\\conda\\conda\\envs\\pythondata\\lib\\site-packages\\sklearn\\utils\\validation.py:475: DataConversionWarning: Data with input dtype int64 was converted to float64 by StandardScaler.\n",
      "  warnings.warn(msg, DataConversionWarning)\n"
     ]
    }
   ],
   "source": [
    "X_Train=X_train.values\n",
    "X_Train=np.asarray(X_Train)\n",
    "\n",
    "# Finding normalised array of X_Train\n",
    "X_std=StandardScaler().fit_transform(X_Train)"
   ]
  },
  {
   "cell_type": "code",
   "execution_count": 19,
   "metadata": {},
   "outputs": [
    {
     "data": {
      "text/plain": [
       "Text(0,0.5,'Cumulative explained variance')"
      ]
     },
     "execution_count": 19,
     "metadata": {},
     "output_type": "execute_result"
    },
    {
     "data": {
      "image/png": "[encoded data removed]",
      "text/plain": [
       "<matplotlib.figure.Figure at 0x29d1b83d0b8>"
      ]
     },
     "metadata": {},
     "output_type": "display_data"
    }
   ],
   "source": [
    "from sklearn.decomposition import PCA\n",
    "pca = PCA().fit(X_std)\n",
    "plt.plot(np.cumsum(pca.explained_variance_ratio_))\n",
    "plt.xlim(0,7,1)\n",
    "plt.xlabel('Number of components')\n",
    "plt.ylabel('Cumulative explained variance')"
   ]
  },
  {
   "cell_type": "code",
   "execution_count": 22,
   "metadata": {},
   "outputs": [
    {
     "data": {
      "text/plain": [
       "(-2, 2)"
      ]
     },
     "execution_count": 22,
     "metadata": {},
     "output_type": "execute_result"
    },
    {
     "data": {
      "image/png": "[encoded data removed]",
      "text/plain": [
       "<matplotlib.figure.Figure at 0x29d1e5ec208>"
      ]
     },
     "metadata": {},
     "output_type": "display_data"
    }
   ],
   "source": [
    "#Since 4 components can explain most of the variance, we choose 4\n",
    "from sklearn.decomposition import PCA\n",
    "sklearn_pca=PCA(n_components=4)\n",
    "X_Train=sklearn_pca.fit_transform(X_std)\n",
    "\n",
    "sns.set(style='darkgrid')\n",
    "f, ax = plt.subplots(figsize=(8, 8))\n",
    "# ax.set_aspect('equal')\n",
    "ax = sns.kdeplot(X_Train[:,0], X_Train[:,1], cmap=\"Greens\",\n",
    "          shade=True, shade_lowest=False)\n",
    "ax = sns.kdeplot(X_Train[:,1], X_Train[:,2], cmap=\"Reds\",\n",
    "          shade=True, shade_lowest=False)\n",
    "ax = sns.kdeplot(X_Train[:,2], X_Train[:,3], cmap=\"Blues\",\n",
    "          shade=True, shade_lowest=False)\n",
    "red = sns.color_palette(\"Reds\")[-2]\n",
    "blue = sns.color_palette(\"Blues\")[-2]\n",
    "green = sns.color_palette(\"Greens\")[-2]\n",
    "ax.text(0.5, 0.5, \"2nd and 3rd Projection\", size=12, color=blue)\n",
    "ax.text(-4, 0.0, \"1st and 3rd Projection\", size=12, color=red)\n",
    "ax.text(2, 0, \"1st and 2nd Projection\", size=12, color=green)\n",
    "plt.xlim(-6,5)\n",
    "plt.ylim(-2,2)"
   ]
  },
  {
   "cell_type": "code",
   "execution_count": 23,
   "metadata": {},
   "outputs": [],
   "source": [
    "number_of_samples = len(y)\n",
    "np.random.seed(0)\n",
    "random_indices = np.random.permutation(number_of_samples)\n",
    "num_training_samples = int(number_of_samples*0.75)\n",
    "x_train = X_Train[random_indices[:num_training_samples]]\n",
    "y_train=y[random_indices[:num_training_samples]]\n",
    "x_test=X_Train[random_indices[num_training_samples:]]\n",
    "y_test=y[random_indices[num_training_samples:]]\n",
    "y_Train=list(y_train)"
   ]
  },
  {
   "cell_type": "code",
   "execution_count": 24,
   "metadata": {},
   "outputs": [
    {
     "name": "stdout",
     "output_type": "stream",
     "text": [
      "Train error = [18.74559232] percent in Ridge Regression\n",
      "Test error = [19.24259303] percent in Ridge Regression\n"
     ]
    }
   ],
   "source": [
    "model=linear_model.Ridge()\n",
    "model.fit(x_train,y_train)\n",
    "y_predict=model.predict(x_train)\n",
    "\n",
    "error=0\n",
    "for i in range(len(y_Train)):\n",
    "    error+=(abs(y_Train[i]-y_predict[i])/y_Train[i])\n",
    "train_error_ridge=error/len(y_Train)*100\n",
    "print(\"Train error = \"'{}'.format(train_error_ridge)+\" percent in Ridge Regression\")\n",
    "\n",
    "Y_test=model.predict(x_test)\n",
    "y_Predict=list(y_test)\n",
    "\n",
    "error=0\n",
    "for i in range(len(y_test)):\n",
    "    error+=(abs(y_Predict[i]-Y_test[i])/y_Predict[i])\n",
    "test_error_ridge=error/len(Y_test)*100\n",
    "print(\"Test error = \"'{}'.format(test_error_ridge)+\" percent in Ridge Regression\")"
   ]
  },
  {
   "cell_type": "code",
   "execution_count": 26,
   "metadata": {},
   "outputs": [],
   "source": []
  },
  {
   "cell_type": "code",
   "execution_count": 27,
   "metadata": {},
   "outputs": [
    {
     "name": "stdout",
     "output_type": "stream",
     "text": [
      "Train error = [1.92416521] percent in Knn algorithm\n",
      "Test error = [13.45313865] percent in knn algorithm\n"
     ]
    }
   ],
   "source": [
    "n_neighbors=5\n",
    "knn=neighbors.KNeighborsRegressor(n_neighbors,weights='uniform')\n",
    "knn.fit(x_train,y_train)\n",
    "y1_knn=knn.predict(x_train)\n",
    "y1_knn=list(y1_knn)\n",
    "\n",
    "error=0\n",
    "for i in range(len(y_train)):\n",
    "    error+=(abs(y1_knn[i]-y_Train[i])/y_Train[i])\n",
    "train_error_knn=error/len(y_Train)*100\n",
    "print(\"Train error = \"+'{}'.format(train_error_knn)+\" percent\"+\" in Knn algorithm\")\n",
    "\n",
    "y2_knn=knn.predict(x_test)\n",
    "y2_knn=list(y2_knn)\n",
    "error=0\n",
    "for i in range(len(y_test)):\n",
    "    error+=(abs(y2_knn[i]-Y_test[i])/Y_test[i])\n",
    "test_error_knn=error/len(Y_test)*100\n",
    "print(\"Test error = \"'{}'.format(test_error_knn)+\" percent\"+\" in knn algorithm\")"
   ]
  },
  {
   "cell_type": "code",
   "execution_count": 38,
   "metadata": {},
   "outputs": [
    {
     "name": "stdout",
     "output_type": "stream",
     "text": [
      "Train error = [18.74272689] percent in Bayesian Regression\n",
      "Test error = [0.00330122] percent in Bayesian Regression\n",
      "(897,)\n"
     ]
    }
   ],
   "source": [
    "reg = linear_model.BayesianRidge()\n",
    "reg.fit(x_train,y_train)\n",
    "y_train = y_train.ravel()\n",
    "y_test = y_test.ravel()\n",
    "y1_reg=reg.predict(x_train)\n",
    "y1_reg=list(y1_reg)\n",
    "\n",
    "y2_reg=reg.predict(x_test).reshape(-1,1)\n",
    "y2_reg=list(y2_reg)\n",
    "\n",
    "\n",
    "\n",
    "error=0\n",
    "for i in range(len(y_train)):\n",
    "    error+=(abs(y1_reg[i]-y_Train[i])/y_Train[i])\n",
    "train_error_bay=error/len(y_Train)*100\n",
    "print(\"Train error = \"+'{}'.format(train_error_bay)+\" percent\"+\" in Bayesian Regression\")\n",
    "\n",
    "error=0\n",
    "for i in range(len(y_test)):\n",
    "    error+=(abs(y2_reg[i]-Y_test[i])/Y_test[i])\n",
    "test_error_bay=(error/len(Y_test))*100\n",
    "print(\"Test error = \"+'{}'.format(test_error_bay)+\" percent\"+\" in Bayesian Regression\")\n",
    "print(y_train.shape)"
   ]
  },
  {
   "cell_type": "code",
   "execution_count": 39,
   "metadata": {},
   "outputs": [
    {
     "name": "stdout",
     "output_type": "stream",
     "text": [
      "Train error = [42.95668474] percent in Decision Tree Regressor\n",
      "Test error = [51.26638163] percent in Decision Tree Regressor\n"
     ]
    }
   ],
   "source": [
    "dec = tree.DecisionTreeRegressor(max_depth=1)\n",
    "dec.fit(x_train,y_train)\n",
    "y1_dec=dec.predict(x_train)\n",
    "y1_dec=list(y1_dec)\n",
    "y2_dec=dec.predict(x_test)\n",
    "y2_dec=list(y2_dec)\n",
    "\n",
    "error=0\n",
    "for i in range(len(y_train)):\n",
    "    error+=(abs(y1_dec[i]-y_Train[i])/y_Train[i])\n",
    "train_error_tree=error/len(y_Train)*100\n",
    "print(\"Train error = \"+'{}'.format(train_error_tree)+\" percent\"+\" in Decision Tree Regressor\")\n",
    "\n",
    "error=0\n",
    "for i in range(len(y_test)):\n",
    "    error+=(abs(y1_dec[i]-Y_test[i])/Y_test[i])\n",
    "test_error_tree=error/len(Y_test)*100\n",
    "print(\"Test error = \"'{}'.format(test_error_tree)+\" percent in Decision Tree Regressor\")"
   ]
  },
  {
   "cell_type": "code",
   "execution_count": 40,
   "metadata": {},
   "outputs": [
    {
     "name": "stdout",
     "output_type": "stream",
     "text": [
      "Train error = [4.13383276] percent in SVM Regressor\n",
      "Test error = [13.60273281] percent in SVM Regressor\n"
     ]
    }
   ],
   "source": [
    "svm_reg=svm.SVR()\n",
    "svm_reg.fit(x_train,y_train)\n",
    "y1_svm=svm_reg.predict(x_train)\n",
    "y1_svm=list(y1_svm)\n",
    "y2_svm=svm_reg.predict(x_test)\n",
    "y2_svm=list(y2_svm)\n",
    "\n",
    "error=0\n",
    "for i in range(len(y_train)):\n",
    "    error+=(abs(y1_svm[i]-y_Train[i])/y_Train[i])\n",
    "train_error_svm=error/len(y_Train)*100\n",
    "print(\"Train error = \"+'{}'.format(train_error_svm)+\" percent\"+\" in SVM Regressor\")\n",
    "\n",
    "error=0\n",
    "for i in range(len(y_test)):\n",
    "    error+=(abs(y2_svm[i]-Y_test[i])/Y_test[i])\n",
    "test_error_svm=error/len(Y_test)*100\n",
    "print(\"Test error = \"'{}'.format(test_error_svm)+\" percent in SVM Regressor\")"
   ]
  },
  {
   "cell_type": "code",
   "execution_count": 43,
   "metadata": {},
   "outputs": [
    {
     "name": "stdout",
     "output_type": "stream",
     "text": [
      "Train error = [4.13383276] percent in RF Regressor\n",
      "Test error = [13.60273281] percent in RF Regressor\n"
     ]
    }
   ],
   "source": [
    "from sklearn.ensemble import RandomForestClassifier\n",
    "\n",
    "clf = RandomForestClassifier(n_estimators=28)\n",
    "clf = clf.fit(x_train, y_train)\n",
    "# accuracy_score(y_test,clf.predict(X_test))\n",
    "y1_rf=svm_reg.predict(x_train)\n",
    "y1_rf=list(y1_rf)\n",
    "y2_rf=svm_reg.predict(x_test)\n",
    "y2_rf=list(y2_rf)\n",
    "\n",
    "error=0\n",
    "for i in range(len(y_train)):\n",
    "    error+=(abs(y1_rf[i]-y_Train[i])/y_Train[i])\n",
    "train_error_rf=error/len(y_Train)*100\n",
    "print(\"Train error = \"+'{}'.format(train_error_rf)+\" percent\"+\" in RF Regressor\")\n",
    "\n",
    "error=0\n",
    "for i in range(len(y_test)):\n",
    "    error+=(abs(y2_rf[i]-Y_test[i])/Y_test[i])\n",
    "test_error_rf=error/len(Y_test)*100\n",
    "print(\"Test error = \"'{}'.format(test_error_rf)+\" percent in RF Regressor\")\n"
   ]
  },
  {
   "cell_type": "code",
   "execution_count": 44,
   "metadata": {},
   "outputs": [
    {
     "data": {
      "text/html": [
       "<div>\n",
       "<style scoped>\n",
       "    .dataframe tbody tr th:only-of-type {\n",
       "        vertical-align: middle;\n",
       "    }\n",
       "\n",
       "    .dataframe tbody tr th {\n",
       "        vertical-align: top;\n",
       "    }\n",
       "\n",
       "    .dataframe thead th {\n",
       "        text-align: right;\n",
       "    }\n",
       "</style>\n",
       "<table border=\"1\" class=\"dataframe\">\n",
       "  <thead>\n",
       "    <tr style=\"text-align: right;\">\n",
       "      <th></th>\n",
       "      <th>Train Error</th>\n",
       "      <th>Test Error</th>\n",
       "    </tr>\n",
       "  </thead>\n",
       "  <tbody>\n",
       "    <tr>\n",
       "      <th>Ridge Regression</th>\n",
       "      <td>[18.745592315728622]</td>\n",
       "      <td>[19.24259302695799]</td>\n",
       "    </tr>\n",
       "    <tr>\n",
       "      <th>Knn</th>\n",
       "      <td>[1.9241652067739015]</td>\n",
       "      <td>[13.453138650289892]</td>\n",
       "    </tr>\n",
       "    <tr>\n",
       "      <th>Bayesian Regression</th>\n",
       "      <td>[18.742726894515478]</td>\n",
       "      <td>[0.0033012192970431724]</td>\n",
       "    </tr>\n",
       "    <tr>\n",
       "      <th>Decision Tree</th>\n",
       "      <td>[42.956684744055224]</td>\n",
       "      <td>[51.26638162823257]</td>\n",
       "    </tr>\n",
       "    <tr>\n",
       "      <th>SVM</th>\n",
       "      <td>[4.133832760479634]</td>\n",
       "      <td>[13.602732812568272]</td>\n",
       "    </tr>\n",
       "    <tr>\n",
       "      <th>RF</th>\n",
       "      <td>[4.133832760479634]</td>\n",
       "      <td>[13.602732812568272]</td>\n",
       "    </tr>\n",
       "  </tbody>\n",
       "</table>\n",
       "</div>"
      ],
      "text/plain": [
       "                              Train Error               Test Error\n",
       "Ridge Regression     [18.745592315728622]      [19.24259302695799]\n",
       "Knn                  [1.9241652067739015]     [13.453138650289892]\n",
       "Bayesian Regression  [18.742726894515478]  [0.0033012192970431724]\n",
       "Decision Tree        [42.956684744055224]      [51.26638162823257]\n",
       "SVM                   [4.133832760479634]     [13.602732812568272]\n",
       "RF                    [4.133832760479634]     [13.602732812568272]"
      ]
     },
     "execution_count": 44,
     "metadata": {},
     "output_type": "execute_result"
    }
   ],
   "source": [
    "train_error=[train_error_ridge,train_error_knn,train_error_bay,train_error_tree,train_error_svm, train_error_rf]\n",
    "test_error=[test_error_ridge,test_error_knn,test_error_bay,test_error_tree,test_error_svm, test_error_rf]\n",
    "\n",
    "col={'Train Error':train_error,'Test Error':test_error}\n",
    "models=['Ridge Regression','Knn','Bayesian Regression','Decision Tree','SVM', 'RF']\n",
    "df=DataFrame(data=col,index=models)\n",
    "df"
   ]
  },
  {
   "cell_type": "code",
   "execution_count": null,
   "metadata": {},
   "outputs": [],
   "source": []
  },
  {
   "cell_type": "code",
   "execution_count": null,
   "metadata": {},
   "outputs": [],
   "source": []
  }
 ],
 "metadata": {
  "kernelspec": {
   "display_name": "Python 3",
   "language": "python",
   "name": "python3"
  },
  "language_info": {
   "codemirror_mode": {
    "name": "ipython",
    "version": 3
   },
   "file_extension": ".py",
   "mimetype": "text/x-python",
   "name": "python",
   "nbconvert_exporter": "python",
   "pygments_lexer": "ipython3",
   "version": "3.6.4"
  }
 },
 "nbformat": 4,
 "nbformat_minor": 2
}
